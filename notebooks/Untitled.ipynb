{
 "cells": [
  {
   "cell_type": "code",
   "execution_count": null,
   "id": "c44f0575-03eb-4080-96d1-c176c9791255",
   "metadata": {},
   "outputs": [],
   "source": [
    "import requests\n",
    "import json\n",
    "\n",
    "# API endpoint URL\n",
    "BASE_URL = \"http://localhost:8001\"  # Adjust if your server is running on a different host/port\n",
    "\n",
    "def test_search():\n",
    "    # Test parameters\n",
    "    query = \"hola\"\n",
    "    limit = 3\n",
    "\n",
    "    # Make the API request\n",
    "    response = requests.get(f\"{BASE_URL}/search\", params={\"query\": query, \"limit\": limit})\n",
    "\n",
    "    # Check if the request was successful\n",
    "    if response.status_code == 200:\n",
    "        results = response.json()\n",
    "        print(f\"Search Results for query: '{query}' (limit: {limit})\")\n",
    "        print(json.dumps(results, indent=2))\n",
    "    else:\n",
    "        print(f\"Error: {response.status_code}\")\n",
    "        print(response.text)\n"
   ]
  },
  {
   "cell_type": "code",
   "execution_count": null,
   "id": "f6716244-e421-4a27-977f-58edc03eb3a4",
   "metadata": {},
   "outputs": [],
   "source": [
    "test_search()"
   ]
  },
  {
   "cell_type": "code",
   "execution_count": null,
   "id": "9cb6c5cd-c6f0-447d-aae4-a34b04cbb1fc",
   "metadata": {},
   "outputs": [],
   "source": []
  },
  {
   "cell_type": "code",
   "execution_count": null,
   "id": "ecabc66b-14a2-4eee-8104-a5ebb8e22a2e",
   "metadata": {},
   "outputs": [],
   "source": []
  }
 ],
 "metadata": {
  "kernelspec": {
   "display_name": "bc-search-engine",
   "language": "python",
   "name": "env"
  },
  "language_info": {
   "codemirror_mode": {
    "name": "ipython",
    "version": 3
   },
   "file_extension": ".py",
   "mimetype": "text/x-python",
   "name": "python",
   "nbconvert_exporter": "python",
   "pygments_lexer": "ipython3",
   "version": "3.11.4"
  }
 },
 "nbformat": 4,
 "nbformat_minor": 5
}
